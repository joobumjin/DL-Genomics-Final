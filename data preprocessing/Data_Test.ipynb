{
  "nbformat": 4,
  "nbformat_minor": 0,
  "metadata": {
    "colab": {
      "provenance": [],
      "gpuType": "T4"
    },
    "kernelspec": {
      "name": "python3",
      "display_name": "Python 3"
    },
    "language_info": {
      "name": "python"
    },
    "accelerator": "GPU"
  },
  "cells": [
    {
      "cell_type": "code",
      "execution_count": null,
      "metadata": {
        "colab": {
          "base_uri": "https://localhost:8080/"
        },
        "id": "F0G27oAHRFfs",
        "outputId": "8ae4d04b-51ec-445c-b9af-9b50997faa5a"
      },
      "outputs": [
        {
          "output_type": "stream",
          "name": "stdout",
          "text": [
            "Mounted at /content/drive\n",
            "/content/drive/MyDrive/GC Merge Data\n",
            " \u001b[0m\u001b[01;36mdata\u001b[0m@             \u001b[01;36m'GC-MERGE example'\u001b[0m@       process_inputs_.py\n",
            "'Data Test.ipynb'  'Processing Data.ipynb'   \u001b[01;34m__pycache__\u001b[0m/\n"
          ]
        }
      ],
      "source": [
        "from google.colab import drive\n",
        "drive.mount('/content/drive', force_remount=True)\n",
        "\n",
        "%cd \"drive/MyDrive/GC Merge Data\"\n",
        "%ls"
      ]
    },
    {
      "cell_type": "code",
      "source": [
        "import numpy as np\n",
        "from scipy.sparse import load_npz\n",
        "import pandas as pd\n",
        "from tqdm import tqdm\n",
        "import tensorflow as tf\n",
        "from tensorflow.keras import Sequential\n",
        "from tensorflow.keras.layers import Conv2D, MaxPooling2D, Conv1D, Flatten, Dense, MaxPooling1D, Reshape, Conv2DTranspose"
      ],
      "metadata": {
        "id": "9eM3VPfWRKw_"
      },
      "execution_count": null,
      "outputs": []
    },
    {
      "cell_type": "code",
      "source": [
        "base_path = \"/content/drive/Shareddrives/DeepBio/GC Merge Data/\"\n",
        "cell_line = \"E116\"\n",
        "regression_flag = 0\n",
        "chip_res = 10000\n",
        "hic_res = 10000\n",
        "num_hm = 5\n",
        "num_feat = int((hic_res/chip_res)*num_hm)"
      ],
      "metadata": {
        "id": "xvUzc50IRLyp"
      },
      "execution_count": null,
      "outputs": []
    },
    {
      "cell_type": "markdown",
      "source": [
        "# Chr1"
      ],
      "metadata": {
        "id": "mCSQ0ChzRZtW"
      }
    },
    {
      "cell_type": "code",
      "source": [
        "chr_num = 1"
      ],
      "metadata": {
        "id": "-Et6hfOPSh3F"
      },
      "execution_count": null,
      "outputs": []
    },
    {
      "cell_type": "code",
      "source": [
        "hic_sparse_mat_file = f\"{base_path}data/{cell_line}/{hic_res}/chr{chr_num}/hic_sparse_redone_h3k27ac_addition.npz\"\n",
        "\n",
        "# np_nodes_lab_genes_file = f\"data/{cell_line}/np_nodes_lab_genes_reg{regression_flag}.npy\"\n",
        "np_hmods_norm_all_file = f\"data/{cell_line}/{hic_res}/chr{chr_num}/np_hmods_norm_chip_{chip_res}bp_redone_h3k27ac_addition.npy\"\n",
        "df_genes_file = f\"data/{cell_line}/{hic_res}/chr{chr_num}/df_genes_reg{regression_flag}_redone_h3k27ac_addition.pkl\"\n",
        "df_genes = pd.read_pickle(df_genes_file)"
      ],
      "metadata": {
        "id": "L9UiZwcJRX3Z"
      },
      "execution_count": null,
      "outputs": []
    },
    {
      "cell_type": "code",
      "source": [
        "mat = load_npz(hic_sparse_mat_file)\n",
        "allNodes_hms = np.load(np_hmods_norm_all_file)\n",
        "hms = allNodes_hms[:, 1:] #only includes features, not node ids\n",
        "hms = tf.convert_to_tensor(hms.reshape(-1, num_feat), dtype=tf.float32)"
      ],
      "metadata": {
        "id": "kJMVkj6BSPit"
      },
      "execution_count": null,
      "outputs": []
    },
    {
      "cell_type": "code",
      "source": [
        "mat"
      ],
      "metadata": {
        "colab": {
          "base_uri": "https://localhost:8080/"
        },
        "id": "slQJ3ewySbSG",
        "outputId": "8744e6aa-5c10-4f1e-8cda-0b462bd79fde"
      },
      "execution_count": null,
      "outputs": [
        {
          "output_type": "execute_result",
          "data": {
            "text/plain": [
              "<24924x24924 sparse matrix of type '<class 'numpy.float64'>'\n",
              "\twith 115467534 stored elements in Compressed Sparse Row format>"
            ]
          },
          "metadata": {},
          "execution_count": 9
        }
      ]
    },
    {
      "cell_type": "code",
      "source": [
        "hms"
      ],
      "metadata": {
        "colab": {
          "base_uri": "https://localhost:8080/"
        },
        "id": "aPEUpQ4qSbia",
        "outputId": "d7b779e6-7a41-4446-985c-f5094fc9dd33"
      },
      "execution_count": null,
      "outputs": [
        {
          "output_type": "execute_result",
          "data": {
            "text/plain": [
              "<tf.Tensor: shape=(24924, 5), dtype=float32, numpy=\n",
              "array([[0.        , 0.        , 0.        , 0.        , 0.        ],\n",
              "       [0.00389105, 0.00912964, 0.00241313, 0.00714286, 0.00985869],\n",
              "       [0.        , 0.00060864, 0.00048263, 0.00619048, 0.00032862],\n",
              "       ...,\n",
              "       [0.04863813, 0.11016434, 0.1307915 , 0.05      , 0.01938876],\n",
              "       [0.04766537, 0.01339014, 0.05598456, 0.02428572, 0.01117318],\n",
              "       [0.00972763, 0.00912964, 0.00772201, 0.00619048, 0.01741702]],\n",
              "      dtype=float32)>"
            ]
          },
          "metadata": {},
          "execution_count": 10
        }
      ]
    },
    {
      "cell_type": "code",
      "source": [
        "## TAKEN FROM CAESAR!! https://github.com/liu-bioinfo-lab/caesar\n",
        "import os\n",
        "import numpy as np\n",
        "# from scipy.signal import convolve2d\n",
        "import matplotlib.pyplot as plt\n",
        "from matplotlib.gridspec import GridSpec\n",
        "\n",
        "\n",
        "def visualize_HiC_epigenetics(HiC, epis, output, fig_width=12.0,\n",
        "                              vmin=0, vmax=None, cmap='Reds', colorbar=True,\n",
        "                              colorbar_orientation='vertical',\n",
        "                              epi_labels=None, x_ticks=None, fontsize=24,\n",
        "                              epi_colors=None, epi_yaxis=True,\n",
        "                              heatmap_ratio=0.6, epi_ratio=0.1,\n",
        "                              interval_after_heatmap=0.05, interval_between_epi=0.01, ):\n",
        "    \"\"\"\n",
        "    Visualize matched HiC and epigenetic signals in one figure\n",
        "    Args:\n",
        "        HiC (numpy.array): Hi-C contact map, only upper triangle is used.\n",
        "        epis (list): epigenetic signals\n",
        "        output (str): the output path. Must in a proper format (e.g., 'png', 'pdf', 'svg', ...).\n",
        "        fig_width (float): the width of the figure. Then the height will be automatically calculated. Default: 12.0\n",
        "        vmin (float): min value of the colormap. Default: 0\n",
        "        vmax (float): max value of the colormap. Will use the max value in Hi-C data if not specified.\n",
        "        cmap (str or plt.cm): which colormap to use. Default: 'Reds'\n",
        "        colorbar (bool): whether to add colorbar for the heatmap. Default: True\n",
        "        colorbar_orientation (str): \"horizontal\" or \"vertical\". Default: \"vertical\"\n",
        "        epi_labels (list): the names of epigenetic marks. If None, there will be no labels at y axis.\n",
        "        x_ticks (list): a list of strings. Will be added at the bottom. THE FIRST TICK WILL BE AT THE START OF THE SIGNAL, THE LAST TICK WILL BE AT THE END.\n",
        "        fontsize (int): font size. Default: 24\n",
        "        epi_colors (list): colors of epigenetic signals\n",
        "        epi_yaxis (bool): whether add y-axis to epigenetic signals. Default: True\n",
        "        heatmap_ratio (float): the ratio of (heatmap height) and (figure width). Default: 0.6\n",
        "        epi_ratio (float): the ratio of (1D epi signal height) and (figure width). Default: 0.1\n",
        "        interval_after_heatmap (float): the ratio of (interval between heatmap and 1D signals) and (figure width). Default: 0.05\n",
        "        interval_between_epi (float): the ratio of (interval between 1D signals) and (figure width). Default: 0.01\n",
        "\n",
        "    No return. Save a figure only.\n",
        "    \"\"\"\n",
        "\n",
        "    # Make sure the lengths match\n",
        "    # len_epis = [len(epi) for epi in epis]\n",
        "    # if max(len_epis) != min(len_epis) or max(len_epis) != len(HiC):\n",
        "    #     raise ValueError('Size not matched!')\n",
        "    N = len(HiC)\n",
        "\n",
        "    # Define the space for each row (heatmap - interval - signal - interval - signal ...)\n",
        "    rs = [heatmap_ratio, interval_after_heatmap] + [epi_ratio, interval_between_epi] * len(epis)\n",
        "    rs = np.array(rs[:-1])\n",
        "\n",
        "    # Calculate figure height\n",
        "    fig_height = fig_width * np.sum(rs)\n",
        "    rs = rs / np.sum(rs)  # normalize to 1 (ratios)\n",
        "    fig = plt.figure(figsize=(fig_width, fig_height))\n",
        "\n",
        "    # Split the figure into rows with different heights\n",
        "    gs = GridSpec(len(rs), 1, height_ratios=rs)\n",
        "\n",
        "    # Ready for plotting heatmap\n",
        "    ax0 = plt.subplot(gs[0, :])\n",
        "    # Define the rotated axes and coordinates\n",
        "    coordinate = np.array([[[(x + y) / 2, y - x] for y in range(N + 1)] for x in range(N + 1)])\n",
        "    X, Y = coordinate[:, :, 0], coordinate[:, :, 1]\n",
        "    # Plot the heatmap\n",
        "    vmax = vmax if vmax is not None else np.max(HiC)\n",
        "    im = ax0.pcolormesh(X, Y, HiC, vmin=vmin, vmax=vmax, cmap=cmap)\n",
        "    ax0.axis('off')\n",
        "    ax0.set_ylim([0, N])\n",
        "    ax0.set_xlim([0, N])\n",
        "    if colorbar:\n",
        "        if colorbar_orientation == 'horizontal':\n",
        "            _left, _width, _bottom, _height = 0.12, 0.25, 1 - rs[0] * 0.25, rs[0] * 0.03\n",
        "        elif colorbar_orientation == 'vertical':\n",
        "            _left, _width, _bottom, _height = 0.9, 0.02, 1 - rs[0] * 0.7, rs[0] * 0.5\n",
        "        else:\n",
        "            raise ValueError('Wrong orientation!')\n",
        "        cbar = plt.colorbar(im, cax=fig.add_axes([_left, _bottom, _width, _height]),\n",
        "                            orientation=colorbar_orientation)\n",
        "        cbar.ax.tick_params(labelsize=fontsize)\n",
        "        cbar.outline.set_visible(False)\n",
        "\n",
        "    # print(rs/np.sum(rs))\n",
        "    # Ready for plotting 1D signals\n",
        "    if epi_labels:\n",
        "        assert len(epis) == len(epi_labels)\n",
        "    if epi_colors:\n",
        "        assert len(epis) == len(epi_colors)\n",
        "\n",
        "    for i, epi in enumerate(epis):\n",
        "        # print(epi.shape)\n",
        "        ax1 = plt.subplot(gs[2 + 2 * i, :])\n",
        "\n",
        "        if epi_colors:\n",
        "            ax1.fill_between(np.arange(N), 0, epi, color=epi_colors[i])\n",
        "        else:\n",
        "            ax1.fill_between(np.arange(N), 0, epi)\n",
        "        ax1.spines['left'].set_visible(False)\n",
        "        ax1.spines['right'].set_visible(False)\n",
        "        ax1.spines['top'].set_visible(False)\n",
        "        ax1.spines['bottom'].set_visible(False)\n",
        "\n",
        "        if not epi_yaxis:\n",
        "            ax1.set_yticks([])\n",
        "            ax1.set_yticklabels([])\n",
        "        else:\n",
        "            ax1.spines['right'].set_visible(True)\n",
        "            ax1.tick_params(labelsize=fontsize)\n",
        "            ax1.yaxis.tick_right()\n",
        "\n",
        "        if i != len(epis) - 1:\n",
        "            ax1.set_xticks([])\n",
        "            ax1.set_xticklabels([])\n",
        "        # ax1.axis('off')\n",
        "        # ax1.xaxis.set_visible(True)\n",
        "        # plt.setp(ax1.spines.values(), visible=False)\n",
        "        # ax1.yaxis.set_visible(True)\n",
        "\n",
        "        ax1.set_xlim([-0.5, N - 0.5])\n",
        "        if epi_labels:\n",
        "            ax1.set_ylabel(epi_labels[i], fontsize=fontsize, rotation=0)\n",
        "    ax1.spines['bottom'].set_visible(True)\n",
        "    if x_ticks:\n",
        "        tick_pos = np.linspace(0, N - 1, len(x_ticks))  # 这个坐标其实是不对的 差1个bin 但是为了ticks好看只有先这样了\n",
        "        ax1.set_xticks(tick_pos)\n",
        "        ax1.set_xticklabels(x_ticks, fontsize=fontsize)\n",
        "    else:\n",
        "        ax1.set_xticks([])\n",
        "        ax1.set_xticklabels([])\n",
        "\n",
        "    plt.savefig(output)\n",
        "    plt.close()"
      ],
      "metadata": {
        "id": "avdUtlPwPy_f"
      },
      "execution_count": null,
      "outputs": []
    },
    {
      "cell_type": "code",
      "source": [
        "visualize_HiC_epigenetics(mat[:6000, :6000].toarray(), tf.transpose(hms[:6000]), f\"./{cell_line}/chr1/ground_truth_hic_vis.png\",\n",
        "                          colorbar=True, interval_after_heatmap=0.,\n",
        "                          interval_between_epi=0., epi_labels=['a','b','c','d','e'],\n",
        "                          epi_yaxis=True, fontsize=20, epi_ratio=0.045,\n",
        "                          x_ticks=['', '', '', '', '', ''], vmax=np.quantile(mat[:6000, :6000].toarray(), 0.98))"
      ],
      "metadata": {
        "id": "VYHUQtweP1XC"
      },
      "execution_count": null,
      "outputs": []
    },
    {
      "cell_type": "markdown",
      "source": [
        "# All"
      ],
      "metadata": {
        "id": "2jgS1i0HNSRt"
      }
    },
    {
      "cell_type": "code",
      "source": [
        "for chr_num in range(1, 23):\n",
        "  hic_sparse_mat_file = f\"{base_path}data/{cell_line}/{hic_res}/chr{chr_num}/hic_sparse_redone_h3k27ac_addition.npz\"\n",
        "\n",
        "\n",
        "  np_hmods_norm_all_file = f\"{base_path}data/{cell_line}/{hic_res}/chr{chr_num}/np_hmods_norm_chip_{chip_res}bp_redone_h3k27ac_addition.npy\"\n",
        "\n",
        "  # df_genes_file = f\"{base_path}data/{cell_line}/{hic_res}/chr{chr_num}/df_genes_reg{regression_flag}_redone_h3k27ac_addition.pkl\"\n",
        "  # df_genes = pd.read_pickle(df_genes_file)\n",
        "\n",
        "  mat = load_npz(hic_sparse_mat_file)\n",
        "  allNodes_hms = np.load(np_hmods_norm_all_file)\n",
        "  hms = allNodes_hms[:, 1:] #only includes features, not node ids\n",
        "  hms = tf.convert_to_tensor(hms.reshape(-1, num_feat), dtype=tf.float32)\n",
        "\n",
        "  #if mat.shape[0] != len(hms):\n",
        "  print(chr_num)\n",
        "  print(f\"HiC Shape: {mat.shape}, HMs Shape: {hms.shape}\")"
      ],
      "metadata": {
        "id": "ZWwtWw5VSb_2"
      },
      "execution_count": null,
      "outputs": []
    }
  ]
}