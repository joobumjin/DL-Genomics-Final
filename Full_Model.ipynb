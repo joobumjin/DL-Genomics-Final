{
  "nbformat": 4,
  "nbformat_minor": 0,
  "metadata": {
    "colab": {
      "provenance": [],
      "gpuType": "T4",
      "machine_shape": "hm",
      "collapsed_sections": [
        "r9h0ImEF_C9T",
        "FBkz0HGtVySM"
      ]
    },
    "kernelspec": {
      "name": "python3",
      "display_name": "Python 3"
    },
    "language_info": {
      "name": "python"
    },
    "accelerator": "GPU"
  },
  "cells": [
    {
      "cell_type": "markdown",
      "source": [
        "# Mounting to Drive\n",
        "The following mounts to Google Drive and changes directory into the relevant directory for the purposes of this Demo (assumes that the directory has a shortcut in My Drive!)"
      ],
      "metadata": {
        "id": "jmDjidyetRfX"
      }
    },
    {
      "cell_type": "code",
      "source": [
        "from google.colab import drive\n",
        "drive.mount('/content/drive')\n",
        "\n",
        "%cd \"drive/Shareddrives/DeepBio\"\n",
        "%ls"
      ],
      "metadata": {
        "id": "IGIXz2djs-LG"
      },
      "execution_count": null,
      "outputs": []
    },
    {
      "cell_type": "markdown",
      "source": [
        "# Running Things\n"
      ],
      "metadata": {
        "id": "Mxk2SquX0dER"
      }
    },
    {
      "cell_type": "code",
      "source": [
        "import numpy as np\n",
        "from scipy.sparse import load_npz, find\n",
        "import pandas as pd\n",
        "from tqdm import tqdm\n",
        "import tensorflow as tf\n",
        "from tensorflow.keras import Sequential\n",
        "from tensorflow.keras.layers import Conv2D, MaxPooling2D, Conv1D, Flatten, Dense, MaxPooling1D, Reshape, Conv2DTranspose\n",
        "import tensorflow_probability as tfp"
      ],
      "metadata": {
        "id": "ZSzcvTE0ixg8"
      },
      "execution_count": null,
      "outputs": []
    },
    {
      "cell_type": "markdown",
      "source": [
        "## Data Preprocessing"
      ],
      "metadata": {
        "id": "D1PU5fKSSkgs"
      }
    },
    {
      "cell_type": "code",
      "source": [
        "base_path = \"/content/drive/MyDrive/GC Merge Data/data\"\n",
        "cell_line = \"E116\"\n",
        "regression_flag = 0\n",
        "chip_res = 10000\n",
        "hic_res = 10000\n",
        "num_hm = 5\n",
        "num_feat = int((hic_res/chip_res)*num_hm)\n",
        "slice_len = 256"
      ],
      "metadata": {
        "id": "y8ZolUrZhWYG"
      },
      "execution_count": null,
      "outputs": []
    },
    {
      "cell_type": "markdown",
      "source": [
        "# Downsampling Hi-C"
      ],
      "metadata": {
        "id": "wwArcFty_uS9"
      }
    },
    {
      "cell_type": "code",
      "source": [
        "def downsample_sparse_hic_matrix(sparse_matrix, downsample_factor):\n",
        "    # Generate random scaling factors for each read, ensuring a different factor for each\n",
        "    random_factors = tf.random.uniform(tf.shape(sparse_matrix.values), 0, downsample_factor, dtype=tf.dtypes.double)\n",
        "\n",
        "    # Apply downsampling\n",
        "    downsampled_values = sparse_matrix.values * random_factors\n",
        "    downsampled_sparse_tensor = tf.SparseTensor(indices=sparse_matrix.indices, values=downsampled_values, dense_shape=sparse_matrix.dense_shape)\n",
        "\n",
        "    # Normalize the downsampling to ensure the total reads is approximately 1/16th of the original\n",
        "    total_reads_original = tf.reduce_sum(sparse_matrix.values)\n",
        "    total_reads_downsampled = tf.reduce_sum(downsampled_sparse_tensor.values)\n",
        "    adjustment_factor = (total_reads_original / 16) / total_reads_downsampled\n",
        "    adjusted_values = downsampled_sparse_tensor.values * adjustment_factor\n",
        "    adjusted_downsampled_sparse_tensor = tf.SparseTensor(indices=sparse_matrix.indices, values=adjusted_values, dense_shape=sparse_matrix.dense_shape)\n",
        "\n",
        "    return adjusted_downsampled_sparse_tensor"
      ],
      "metadata": {
        "id": "4Xcjf-QS_tFs"
      },
      "execution_count": null,
      "outputs": []
    },
    {
      "cell_type": "markdown",
      "source": [
        "### One Chromosome at a Time"
      ],
      "metadata": {
        "id": "TvuwYLVtWNhe"
      }
    },
    {
      "cell_type": "code",
      "source": [
        "chr_num = 1\n",
        "folder = f\"{base_path}/{cell_line}/{hic_res}/chr{chr_num}\"\n",
        "hic_sparse_mat_file = f\"{folder}/hic_sparse_redone_h3k27ac_addition.npz\"\n",
        "\n",
        "np_hmods_norm_all_file = f\"{folder}/np_hmods_norm_chip_{chip_res}bp_redone_h3k27ac_addition.npy\"\n",
        "\n",
        "mat = load_npz(hic_sparse_mat_file)\n",
        "rows, cols, values = find(mat)\n",
        "indices = np.column_stack((rows,cols))\n",
        "shape = [np.max(indices[:,0]) + 1, np.max(indices[:,1]) + 1]  # Assuming 0-based indexing\n",
        "mat = tf.SparseTensor(indices=indices, values=values, dense_shape=shape)\n",
        "\n",
        "down_mat = downsample_sparse_hic_matrix(mat, downsample_factor = 1/16)\n",
        "\n",
        "hms = np.load(np_hmods_norm_all_file)\n",
        "hms = hms[:, 1:] #only includes features, not node ids\n",
        "hms = tf.convert_to_tensor(hms.reshape(-1, num_feat), dtype=tf.float32)"
      ],
      "metadata": {
        "id": "9KwWfLDAWZoY"
      },
      "execution_count": null,
      "outputs": []
    },
    {
      "cell_type": "code",
      "source": [
        "def get_next_sample(slice_len):\n",
        "  num_bins = len(hms)\n",
        "  diag_ind = 0\n",
        "  for i in range(0, (num_bins // slice_len) -1):\n",
        "    hms_sub = hms[i*slice_len: (i+1) * slice_len]\n",
        "    for j in range(i, (num_bins // slice_len) -1):\n",
        "      hi_hic_sub = tf.sparse.to_dense(tf.sparse.slice(mat, start=(i,j), size=(slice_len, slice_len)))\n",
        "      lo_hic_sub = tf.sparse.to_dense(tf.sparse.slice(down_mat, start=(i,j), size=(slice_len, slice_len)))\n",
        "      yield lo_hic_sub, hi_hic_sub, hms_sub\n",
        "\n",
        "dataset = tf.data.Dataset.from_generator(\n",
        "    get_next_sample,\n",
        "    output_signature=(\n",
        "        tf.TensorSpec(shape=(slice_len,slice_len), dtype=tf.float64),\n",
        "        tf.TensorSpec(shape=(slice_len,slice_len), dtype=tf.float64),\n",
        "        tf.TensorSpec(shape=(slice_len,num_feat), dtype=tf.float32)),\n",
        "    args = [slice_len]\n",
        ")"
      ],
      "metadata": {
        "id": "__Bg3GYsi1SF"
      },
      "execution_count": null,
      "outputs": []
    },
    {
      "cell_type": "code",
      "source": [
        "sample_1 = dataset.take(1)\n",
        "\n",
        "lo_hic, hic, hm = next(sample_1.as_numpy_iterator())\n",
        "lo_hic, hic, hm = tf.expand_dims(lo_hic, axis=0), tf.expand_dims(hic, axis=0), tf.expand_dims(hm, axis=0)\n",
        "lo_hic.shape, hic.shape, hm.shape"
      ],
      "metadata": {
        "id": "m_xw23tfSMhM"
      },
      "execution_count": null,
      "outputs": []
    },
    {
      "cell_type": "markdown",
      "source": [
        "# Model Construction"
      ],
      "metadata": {
        "id": "r9h0ImEF_C9T"
      }
    },
    {
      "cell_type": "markdown",
      "source": [
        "## HiC Encoder"
      ],
      "metadata": {
        "id": "S_tyyfCWWc5-"
      }
    },
    {
      "cell_type": "code",
      "source": [
        "hic_encoder = Sequential(\n",
        "    layers = [tf.keras.layers.InputLayer(input_shape=(slice_len, slice_len, 1)),\n",
        "              Conv2D(1, 16, (3, 3), activation='relu'),\n",
        "              MaxPooling2D((2, 2)),\n",
        "              Conv2D(16, (3, 3), activation='relu'),\n",
        "              MaxPooling2D((2, 2)),\n",
        "              Conv2D(64, (3, 3), activation='relu'),\n",
        "              MaxPooling2D((2, 2)),\n",
        "              Flatten()],\n",
        "    name=\"Convoltuional HiC Slice Encoder\")\n",
        "\n",
        "hic_encoder.summary()"
      ],
      "metadata": {
        "id": "1EsPxT8PF3Mh"
      },
      "execution_count": null,
      "outputs": []
    },
    {
      "cell_type": "code",
      "source": [
        "# Now pass the correctly shaped tensor to the convolutional encoder\n",
        "hic_encoded = hic_encoder(lo_hic, training=False)\n",
        "\n",
        "# Check the shape of the output\n",
        "hic_encoded.shape"
      ],
      "metadata": {
        "id": "5Y0KO8PnF9vP"
      },
      "execution_count": null,
      "outputs": []
    },
    {
      "cell_type": "markdown",
      "source": [
        "## Histone Modification Mark Encoders"
      ],
      "metadata": {
        "id": "b3F7nnQgWe43"
      }
    },
    {
      "cell_type": "code",
      "source": [
        "epigenomic_encoder = Sequential(\n",
        "    layers = [tf.keras.layers.InputLayer(input_shape=(slice_len,num_feat)),\n",
        "              Conv1D(16, 3, activation='relu'),\n",
        "              MaxPooling1D(2),\n",
        "              Conv1D(32, 3, activation='relu'),\n",
        "              MaxPooling1D(2),\n",
        "              Conv1D(64, 3, activation='relu'),\n",
        "              MaxPooling1D(2),\n",
        "              Conv1D(128, 3, activation='relu'),\n",
        "              MaxPooling1D(2),\n",
        "              Conv1D(128, 3, activation='relu'),\n",
        "              MaxPooling1D(2),\n",
        "              Flatten()],\n",
        "    name=\"1D Convoltuional Epgigenomic Encoder\")\n",
        "\n",
        "epigenomic_encoder.summary()"
      ],
      "metadata": {
        "id": "4UMuteIzWiNJ"
      },
      "execution_count": null,
      "outputs": []
    },
    {
      "cell_type": "code",
      "source": [
        "# Now pass the correctly shaped tensor to the convolutional encoder\n",
        "hm_encoded = epigenomic_encoder(hm)\n",
        "\n",
        "# Check the shape of the output\n",
        "hm_encoded.shape"
      ],
      "metadata": {
        "id": "uccjMEScZ365"
      },
      "execution_count": null,
      "outputs": []
    },
    {
      "cell_type": "markdown",
      "source": [
        "## Merging Modalities"
      ],
      "metadata": {
        "id": "zOjftHrwxvQ1"
      }
    },
    {
      "cell_type": "markdown",
      "source": [
        "### Concatenating Inputs"
      ],
      "metadata": {
        "id": "C-qu2gip0qXO"
      }
    },
    {
      "cell_type": "code",
      "source": [
        "concat_encodings = tf.concat((hic_encoded, hm_encoded), axis=1)\n",
        "concat_encodings"
      ],
      "metadata": {
        "id": "QGJI06QIxwzJ"
      },
      "execution_count": null,
      "outputs": []
    },
    {
      "cell_type": "markdown",
      "source": [
        "### Modeling HiC"
      ],
      "metadata": {
        "id": "-kq3Z0uC0sir"
      }
    },
    {
      "cell_type": "code",
      "source": [
        "decoder = Sequential([tf.keras.layers.InputLayer(input_shape=(4864)),\n",
        "                      Dense(1024),\n",
        "                      Reshape(target_shape=(32, 32, 1)),\n",
        "                      Conv2DTranspose(4, (3,3), strides=2, activation=\"relu\", padding=\"same\"),\n",
        "                      Conv2DTranspose(32, (3,3), strides=2, activation=\"relu\", padding=\"same\"),\n",
        "                      Conv2DTranspose(64, (3,3), strides=2, activation=\"relu\", padding=\"same\"),\n",
        "                      Conv2D(1, (3, 3), activation='relu', padding=\"same\"),\n",
        "                      ], name=\"HiC Decoder\")\n",
        "decoder.summary()"
      ],
      "metadata": {
        "id": "UBaAnxm00wEV"
      },
      "execution_count": null,
      "outputs": []
    },
    {
      "cell_type": "code",
      "source": [
        "recon_hic = decoder(concat_encodings, training=False)\n",
        "recon_hic.shape"
      ],
      "metadata": {
        "id": "Stc2hb6F1xHd"
      },
      "execution_count": null,
      "outputs": []
    },
    {
      "cell_type": "markdown",
      "source": [
        "# Full Model"
      ],
      "metadata": {
        "id": "xiTxJrj45eLM"
      }
    },
    {
      "cell_type": "code",
      "source": [
        "class Autoencoder(tf.keras.Model):\n",
        "  def __init__(self, hic_encoder, epigenomic_encoder, decoder):\n",
        "    super().__init__()\n",
        "    self.hic_encoder = hic_encoder\n",
        "    self.epigenomic_encoder = epigenomic_encoder\n",
        "    self.decoder = decoder\n",
        "\n",
        "  def call(self, inputs, *args, **kwargs):\n",
        "    low_hic, hms = inputs\n",
        "    hic_encoded = self.hic_encoder(low_hic, *args, **kwargs)\n",
        "    hm_encoded = self.epigenomic_encoder(hms, *args, **kwargs)\n",
        "\n",
        "    concat_encodings = tf.concat((hic_encoded, hm_encoded), axis=1)\n",
        "    recon_hic = self.decoder(concat_encodings,*args, **kwargs)\n",
        "\n",
        "    return recon_hic\n",
        "\n",
        "hic_encoder = Sequential(\n",
        "    layers = [tf.keras.layers.InputLayer(input_shape=(slice_len, slice_len, 1)),\n",
        "              Conv2D(1, 16, (3, 3), activation='relu'),\n",
        "              MaxPooling2D((2, 2)),\n",
        "              Conv2D(16, (3, 3), activation='relu'),\n",
        "              MaxPooling2D((2, 2)),\n",
        "              Conv2D(64, (3, 3), activation='relu'),\n",
        "              MaxPooling2D((2, 2)),\n",
        "              Flatten()],\n",
        "    name=\"Convoltuional HiC Slice Encoder\")\n",
        "\n",
        "epigenomic_encoder = Sequential(\n",
        "    layers = [tf.keras.layers.InputLayer(input_shape=(slice_len,num_feat)),\n",
        "              Conv1D(16, 3, activation='relu'),\n",
        "              MaxPooling1D(2),\n",
        "              Conv1D(32, 3, activation='relu'),\n",
        "              MaxPooling1D(2),\n",
        "              Conv1D(64, 3, activation='relu'),\n",
        "              MaxPooling1D(2),\n",
        "              Conv1D(128, 3, activation='relu'),\n",
        "              MaxPooling1D(2),\n",
        "              Conv1D(128, 3, activation='relu'),\n",
        "              MaxPooling1D(2),\n",
        "              Flatten()],\n",
        "    name=\"1D Convoltuional Epgigenomic Encoder\")\n",
        "\n",
        "decoder = Sequential([tf.keras.layers.InputLayer(input_shape=(4864)),\n",
        "                      Dense(1024),\n",
        "                      Reshape(target_shape=(32, 32, 1)),\n",
        "                      Conv2DTranspose(4, (3,3), strides=2, activation=\"relu\", padding=\"same\"),\n",
        "                      Conv2DTranspose(32, (3,3), strides=2, activation=\"relu\", padding=\"same\"),\n",
        "                      Conv2DTranspose(64, (3,3), strides=2, activation=\"relu\", padding=\"same\"),\n",
        "                      Conv2D(1, (3, 3), activation='relu', padding=\"same\"),\n",
        "                      ], name=\"HiC Decoder\")\n",
        "\n",
        "autoencoder = Autoencoder(hic_encoder, epigenomic_encoder, decoder)\n",
        "autoencoder.compile(optimizer=tf.keras.optimizers.Adam(), loss = tf.keras.losses.MeanSquaredError())"
      ],
      "metadata": {
        "id": "lfMcxdKQMdnj"
      },
      "execution_count": null,
      "outputs": []
    },
    {
      "cell_type": "code",
      "source": [
        "autoencoder(inputs=(lo_hic, hm), training=False)"
      ],
      "metadata": {
        "id": "QnGJFSu1PU8R"
      },
      "execution_count": null,
      "outputs": []
    },
    {
      "cell_type": "markdown",
      "source": [
        "## Discriminator Loss"
      ],
      "metadata": {
        "id": "LpYVaBWq0FIZ"
      }
    },
    {
      "cell_type": "code",
      "source": [
        "# Initialize the model\n",
        "discriminator = Sequential([tf.keras.layers.InputLayer(input_shape=(slice_len, slice_len, 1)),\n",
        "                            Conv2D(16, (3, 3), activation='relu'),\n",
        "                            MaxPooling2D((2, 2)),\n",
        "                            Conv2D(32, (3, 3), activation='relu'),\n",
        "                            MaxPooling2D((2, 2)),\n",
        "                            Conv2D(32, (3, 3), activation='relu'),\n",
        "                            MaxPooling2D((2, 2)),\n",
        "                            Conv2D(64, (3, 3), activation='relu'),\n",
        "                            MaxPooling2D((2, 2)),\n",
        "                            Conv2D(128, (3, 3), activation='relu'),\n",
        "                            MaxPooling2D((2, 2)),\n",
        "                            Flatten(),\n",
        "                            Dense(512, activation='relu'),\n",
        "                            Dense(64, activation='relu'),\n",
        "                            Dense(1, activation='sigmoid')],\n",
        "                           name=\"Discriminator\")\n",
        "\n",
        "# Compile the model\n",
        "discriminator.compile(optimizer='adam', loss = tf.keras.losses.BinaryCrossentropy(), metrics=['accuracy'])\n",
        "discriminator.summary()"
      ],
      "metadata": {
        "id": "3RuKXWjzGBuE"
      },
      "execution_count": null,
      "outputs": []
    },
    {
      "cell_type": "code",
      "source": [
        "hic_pred = discriminator(hic, training=False)\n",
        "print(f\"Discriminator Preds Shape {hic_pred.shape}\")\n",
        "print(f\"Discriminator Loss {discriminator.loss(y_pred = hic_pred, y_true = tf.zeros_like(hic_pred))}\")"
      ],
      "metadata": {
        "id": "7AkILy33DKqj"
      },
      "execution_count": null,
      "outputs": []
    },
    {
      "cell_type": "markdown",
      "source": [
        "# Train Step"
      ],
      "metadata": {
        "id": "df0ISHOFKAG4"
      }
    },
    {
      "cell_type": "code",
      "source": [
        "def train_step(autoencoder, discriminator, train_dataset, gen_steps, dis_steps, total_its, batch_size):\n",
        "  total_g_loss, total_d_loss = 0.0,0.0\n",
        "  progress_bar = tqdm(range(total_its // batch_size + 1))\n",
        "\n",
        "  for batch_ind, (low_hic, hic, hms) in enumerate(train_dataset):\n",
        "    #stolen from 1470 lab\n",
        "    for _ in range(dis_steps):\n",
        "        with tf.GradientTape() as tape:\n",
        "            hi_hic = autoencoder((low_hic, hms), training=False)\n",
        "            discrim_fake_preds = discriminator(hi_hic, training=True)\n",
        "            discrim_real_preds = discriminator(hic, training=True)\n",
        "            d_loss = discriminator.loss(y_pred = discrim_fake_preds, y_true = tf.zeros_like(discrim_fake_preds)) + discriminator.loss(y_pred = discrim_real_preds, y_true = tf.ones_like(discrim_real_preds))\n",
        "\n",
        "        ## Optimize the appropriate model\n",
        "        d_vars = discriminator.trainable_variables\n",
        "        gradients = tape.gradient(d_loss, d_vars)\n",
        "        # print(gradients)\n",
        "        discriminator.optimizer.apply_gradients(zip(gradients, d_vars))\n",
        "        total_d_loss += d_loss\n",
        "\n",
        "    for _ in range(gen_steps):\n",
        "        with tf.GradientTape() as tape:\n",
        "            hi_hic = autoencoder((low_hic, hms), training=True)\n",
        "            discrim_fake_preds = discriminator(hi_hic, training=False)\n",
        "            recon_loss = autoencoder.loss(y_pred=hi_hic, y_true=hic)\n",
        "            discrim = discriminator.loss(y_pred = discrim_fake_preds, y_true = tf.ones_like(discrim_fake_preds))\n",
        "\n",
        "            g_loss = 0.35 * recon_loss + 0.65 * discrim\n",
        "        ## Optimize the appropriate model\n",
        "        # print(f\"Reconstruction Loss: {recon_loss}, Discriminator Loss: {discrim}\")\n",
        "        g_vars = autoencoder.trainable_variables\n",
        "        gradients = tape.gradient(g_loss, g_vars)\n",
        "        autoencoder.optimizer.apply_gradients(zip(gradients, g_vars))\n",
        "        total_g_loss += g_loss\n",
        "\n",
        "    progress_bar.update(1)\n",
        "\n",
        "  return total_g_loss / (batch_ind * gen_steps), total_d_loss / (batch_ind * dis_steps)\n"
      ],
      "metadata": {
        "id": "4KrA0i3_KF9v"
      },
      "execution_count": null,
      "outputs": []
    },
    {
      "cell_type": "code",
      "source": [
        "# def run_training(repeat_small = True, small_repeats = 3):\n",
        "epoch = 1\n",
        "repeat_small = True\n",
        "small_repeats = 3\n",
        "dis_steps = 15\n",
        "gen_steps = 35\n",
        "\n",
        "generator_losses = []\n",
        "discriminator_losses = []\n",
        "slice_len = 256\n",
        "batch_size = 32\n",
        "\n",
        "base_path = \"/content/drive/MyDrive/GC Merge Data/data\"\n",
        "cell_line = \"E116\"\n",
        "regression_flag = 0\n",
        "chip_res = 10000\n",
        "hic_res = 10000\n",
        "num_hm = 5\n",
        "num_feat = int((hic_res/chip_res)*num_hm)\n",
        "slice_len = 256\n",
        "\n",
        "# chr_nums = [1,2,3,4,5,6,7,8,9,10,12,13,14,15,16,18,19,20,21,22]\n",
        "chr_nums = [8,9,10,12,13,14,15,16,18,19,20,21,22]\n",
        "\n",
        "chpt_dir = f\"./checkpoints/chr_train/epoch{epoch}/chr{7}\"\n",
        "autoencoder.load_weights(f\"{chpt_dir}/autoencoder_weights.keras\")\n",
        "decoder.load_weights(f\"{chpt_dir}/decoder_weights.keras\")\n",
        "\n",
        "for chr_num in chr_nums:\n",
        "  print(f\"Training on Chromosome {chr_num}\")\n",
        "\n",
        "  #Get Data\n",
        "  folder = f\"{base_path}/{cell_line}/{hic_res}/chr{chr_num}\"\n",
        "  hic_sparse_mat_file = f\"{folder}/hic_sparse_redone_h3k27ac_addition.npz\"\n",
        "\n",
        "  np_hmods_norm_all_file = f\"{folder}/np_hmods_norm_chip_{chip_res}bp_redone_h3k27ac_addition.npy\"\n",
        "\n",
        "  mat = load_npz(hic_sparse_mat_file)\n",
        "  rows, cols, values = find(mat)\n",
        "  indices = np.column_stack((rows,cols))\n",
        "  shape = [np.max(indices[:,0]) + 1, np.max(indices[:,1]) + 1]  # Assuming 0-based indexing\n",
        "  mat = tf.SparseTensor(indices=indices, values=values, dense_shape=shape)\n",
        "\n",
        "  down_mat = downsample_sparse_hic_matrix(mat, downsample_factor = 1/16)\n",
        "\n",
        "  hms = np.load(np_hmods_norm_all_file)\n",
        "  hms = hms[:, 1:] #only includes features, not node ids\n",
        "  hms = tf.convert_to_tensor(hms.reshape(-1, num_feat), dtype=tf.float32)\n",
        "\n",
        "  def get_next_sample(slice_len):\n",
        "    num_bins = len(hms)\n",
        "    diag_ind = 0\n",
        "    for i in range(0, (num_bins // slice_len)):\n",
        "      hms_sub = hms[i*slice_len: (i+1) * slice_len]\n",
        "      for j in range(i, (num_bins // slice_len)):\n",
        "        hi_hic_sub = tf.sparse.to_dense(tf.sparse.slice(mat, start=(i,j), size=(slice_len, slice_len)))\n",
        "        lo_hic_sub = tf.sparse.to_dense(tf.sparse.slice(down_mat, start=(i,j), size=(slice_len, slice_len)))\n",
        "        yield lo_hic_sub, hi_hic_sub, hms_sub\n",
        "\n",
        "  chr_dataset = tf.data.Dataset.from_generator(\n",
        "      get_next_sample,\n",
        "      output_signature=(\n",
        "          tf.TensorSpec(shape=(slice_len,slice_len), dtype=tf.float64),\n",
        "          tf.TensorSpec(shape=(slice_len,slice_len), dtype=tf.float64),\n",
        "          tf.TensorSpec(shape=(slice_len,num_feat), dtype=tf.float32)),\n",
        "      args = [slice_len]\n",
        "  )\n",
        "\n",
        "\n",
        "  total_its = 0\n",
        "  for i in range(0, (len(hms) // slice_len)):\n",
        "    for j in range(i, (len(hms) // slice_len)):\n",
        "      total_its += 1\n",
        "\n",
        "  chr_dataset = chr_dataset.batch(batch_size).shuffle(total_its)\n",
        "\n",
        "  steps = 1\n",
        "  if repeat_small and chr_num > 5: steps = small_repeats\n",
        "\n",
        "  for _ in range(steps):\n",
        "    train_g_loss, train_d_loss = train_step(autoencoder, discriminator, chr_dataset, gen_steps, dis_steps, total_its, batch_size)\n",
        "    generator_losses.append(train_g_loss.numpy().item())\n",
        "    discriminator_losses.append(train_d_loss.numpy().item())\n",
        "\n",
        "    print(f\"Train Generator Loss: {train_g_loss}, Discrim Loss: {train_d_loss}\")\n",
        "  chpt_dir = f\"./checkpoints/chr_train/epoch{epoch}/chr{chr_num}\"\n",
        "  autoencoder.save_weights(f\"{chpt_dir}/autoencoder_weights.keras\")\n",
        "  decoder.save_weights(f\"{chpt_dir}/decoder_weights.keras\")\n",
        "  print(f\"Saved chr{chr_num} Checkpoint\")\n",
        "\n",
        "  del mat, down_mat, chr_dataset\n",
        "\n",
        "\n",
        "chpt_dir = f\"./checkpoints/full_train/epoch_{epoch}\"\n",
        "autoencoder.save_weights(f\"{chpt_dir}/autoencoder_weights.keras\")\n",
        "decoder.save_weights(f\"{chpt_dir}/decoder_weights.keras\")\n",
        "print(f\"Saved Epoch {epoch} Checkpoint\")"
      ],
      "metadata": {
        "id": "sBtm9r1nxSfr"
      },
      "execution_count": null,
      "outputs": []
    },
    {
      "cell_type": "markdown",
      "source": [
        "## Save Weights"
      ],
      "metadata": {
        "id": "115lqxd94OEy"
      }
    },
    {
      "cell_type": "markdown",
      "source": [
        "# Validation"
      ],
      "metadata": {
        "id": "d5jocMpVMLGi"
      }
    },
    {
      "cell_type": "markdown",
      "source": [
        "![Screenshot 2023-12-08 at 10.49.31 PM.png](data:image/png;base64,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)"
      ],
      "metadata": {
        "id": "rFOIFInJsX6F"
      }
    },
    {
      "cell_type": "code",
      "source": [
        "class PearsonCorr(tf.keras.metrics.Metric):\n",
        "    def __init__(self, name='pcorr', **kwargs):\n",
        "        super(PearsonCorr, self).__init__(name=name, **kwargs)\n",
        "        self.covar = self.add_weight(name=\"covar\", initializer=\"zeros\")\n",
        "        self.x_mean = self.add_weight(name=\"x_mean\", initializer=\"zeros\")\n",
        "        self.y_mean = self.add_weight(name=\"y_mean\", initializer=\"zeros\")\n",
        "        self.count = self.add_weight(name=\"count\", initializer=\"zeros\")\n",
        "        self.x_var = self.add_weight(name=\"x_var\", initializer=\"zeros\")\n",
        "        self.y_var = self.add_weight(name=\"y_var\", initializer=\"zeros\")\n",
        "\n",
        "    def update_state(self, y_true, y_pred, sample_weight=None):\n",
        "        y_true = tf.cast(y_true, tf.float32)\n",
        "        y_pred = tf.cast(y_pred, tf.float32)\n",
        "\n",
        "        # Flatten the arrays for multi-dimensional support\n",
        "        y_true_flat = tf.reshape(y_true, [-1])\n",
        "        y_pred_flat = tf.reshape(y_pred, [-1])\n",
        "\n",
        "        # Update count, means, covariance, and variances\n",
        "        self.count.assign_add(tf.cast(tf.size(y_true_flat), tf.float32))\n",
        "        self.x_mean.assign_add(tf.reduce_mean(y_true_flat))\n",
        "        self.y_mean.assign_add(tf.reduce_mean(y_pred_flat))\n",
        "        self.covar.assign_add(tf.reduce_sum((y_true_flat - self.x_mean) * (y_pred_flat - self.y_mean)))\n",
        "        self.x_var.assign_add(tf.reduce_sum(tf.square(y_true_flat - self.x_mean)))\n",
        "        self.y_var.assign_add(tf.reduce_sum(tf.square(y_pred_flat - self.y_mean)))\n",
        "\n",
        "    def result(self):\n",
        "        covariance = self.covar / self.count\n",
        "        std_x = tf.sqrt(self.x_var / self.count)\n",
        "        std_y = tf.sqrt(self.y_var / self.count)\n",
        "        return covariance / (std_x * std_y)\n",
        "\n",
        "    def reset_state(self):\n",
        "        self.covar.assign(0)\n",
        "        self.x_mean.assign(0)\n",
        "        self.y_mean.assign(0)\n",
        "        self.count.assign(0)\n",
        "        self.x_var.assign(0)\n",
        "        self.y_var.assign(0)\n",
        "\n",
        "def val_epoch(autoencoder, discriminator, val_dataset, total_its, batch_size):\n",
        "    metrics = {\n",
        "        \"mse\": tf.keras.metrics.MeanSquaredError(),\n",
        "        \"corr\": PearsonCorr()\n",
        "    }\n",
        "\n",
        "    progress_bar = tqdm(range(total_its // batch_size + 1))\n",
        "\n",
        "    for batch_ind, (hic, hms) in enumerate(val_dataset):\n",
        "        hi_hic = autoencoder((hic, hms), training=False)\n",
        "\n",
        "        for metric_name, metric in metrics.items():\n",
        "            metric.update_state(y_true=hic, y_pred=hi_hic)\n",
        "\n",
        "        progress_bar.update(1)\n",
        "\n",
        "    computed = {metric_name: metric.result().numpy() for metric_name, metric in metrics.items()}\n",
        "    return computed\n"
      ],
      "metadata": {
        "id": "tONodS_Jp022"
      },
      "execution_count": null,
      "outputs": []
    },
    {
      "cell_type": "code",
      "source": [
        "chpt_dir = f\"./checkpoints/full_train\"\n",
        "autoencoder.load_weights(f\"{chpt_dir}/autoencoder_weights.keras\")"
      ],
      "metadata": {
        "id": "eEwncQHQNIVl"
      },
      "execution_count": null,
      "outputs": []
    },
    {
      "cell_type": "code",
      "source": [
        "for chr_num in [11, 17]:\n",
        "  print(f\"Testing on Chromosome {chr_num}\")\n",
        "  folder = f\"{base_path}/{cell_line}/{hic_res}/chr{chr_num}\"\n",
        "  hic_sparse_mat_file = f\"{folder}/hic_sparse_redone_h3k27ac_addition.npz\"\n",
        "\n",
        "  np_hmods_norm_all_file = f\"{folder}/np_hmods_norm_chip_{chip_res}bp_redone_h3k27ac_addition.npy\"\n",
        "\n",
        "  mat = load_npz(hic_sparse_mat_file)\n",
        "\n",
        "  allNodes_hms = np.load(np_hmods_norm_all_file)\n",
        "  hms = allNodes_hms[:, 1:] #only includes features, not node ids\n",
        "  hms = tf.convert_to_tensor(hms.reshape(-1, num_feat), dtype=tf.float32)\n",
        "\n",
        "  num_bins = len(hms)\n",
        "  total_its = 0\n",
        "  for i in range(0, (num_bins // slice_len) -1):\n",
        "    for j in range(i, (num_bins // slice_len) -1):\n",
        "      total_its += 1\n",
        "\n",
        "  def get_next_sample(slice_len):\n",
        "    num_bins = len(hms)\n",
        "    diag_ind = 0\n",
        "    for i in range(0, (num_bins // slice_len) -1):\n",
        "      hms_sub = hms[i*slice_len: (i+1) * slice_len]\n",
        "      for j in range(i, (num_bins // slice_len) -1):\n",
        "        hic_sub = mat[i*slice_len:(i+1)*slice_len, j*slice_len:(j+1)*slice_len].toarray()\n",
        "        if hic_sub.shape != (slice_len, slice_len) or len(hms_sub) != slice_len:\n",
        "          print(f\"Slice Ranges: {i*slice_len},{(i+1)*slice_len}; {j*slice_len},{(j+1)*slice_len}\")\n",
        "          print(f\"Data Shape Error on (i,j): ({i}, {j})\")\n",
        "          print(f\" HiC Shape: {hic_sub.shape}\\n Histone Mark Shape: {hms_sub.shape}\")\n",
        "        yield hic_sub, hms_sub\n",
        "\n",
        "  slice_len = 256\n",
        "  dataset = tf.data.Dataset.from_generator(\n",
        "      get_next_sample,\n",
        "      output_signature=(\n",
        "          tf.TensorSpec(shape=(slice_len,slice_len), dtype=tf.float64),\n",
        "          tf.TensorSpec(shape=(slice_len,num_feat), dtype=tf.float32)),\n",
        "      args = [slice_len]\n",
        "  )\n",
        "  batch_size = 32\n",
        "  chr_dataset = dataset.batch(batch_size).shuffle(dataset.cardinality())\n",
        "\n",
        "  total_its = 0\n",
        "  for i in range(0, (len(hms) // slice_len) -1):\n",
        "    for j in range(i, (len(hms) // slice_len) -1):\n",
        "      total_its += 1\n",
        "\n",
        "  print(f\"Evaluation stats: {val_epoch(autoencoder, discriminator, chr_dataset, total_its, batch_size)}\")"
      ],
      "metadata": {
        "id": "6D1k7Um_p0u_"
      },
      "execution_count": null,
      "outputs": []
    },
    {
      "cell_type": "markdown",
      "source": [
        "## Importing CAESAR HiC Visualization"
      ],
      "metadata": {
        "id": "FBkz0HGtVySM"
      }
    },
    {
      "cell_type": "code",
      "source": [
        "## TAKEN FROM CAESAR!! https://github.com/liu-bioinfo-lab/caesar\n",
        "import os\n",
        "import numpy as np\n",
        "# from scipy.signal import convolve2d\n",
        "import matplotlib.pyplot as plt\n",
        "from matplotlib.gridspec import GridSpec\n",
        "\n",
        "\n",
        "def visualize_HiC_epigenetics(HiC, epis, output, fig_width=12.0,\n",
        "                              vmin=0, vmax=None, cmap='Reds', colorbar=True,\n",
        "                              colorbar_orientation='vertical',\n",
        "                              epi_labels=None, x_ticks=None, fontsize=24,\n",
        "                              epi_colors=None, epi_yaxis=True,\n",
        "                              heatmap_ratio=0.6, epi_ratio=0.1,\n",
        "                              interval_after_heatmap=0.05, interval_between_epi=0.01, ):\n",
        "    \"\"\"\n",
        "    Visualize matched HiC and epigenetic signals in one figure\n",
        "    Args:\n",
        "        HiC (numpy.array): Hi-C contact map, only upper triangle is used.\n",
        "        epis (list): epigenetic signals\n",
        "        output (str): the output path. Must in a proper format (e.g., 'png', 'pdf', 'svg', ...).\n",
        "        fig_width (float): the width of the figure. Then the height will be automatically calculated. Default: 12.0\n",
        "        vmin (float): min value of the colormap. Default: 0\n",
        "        vmax (float): max value of the colormap. Will use the max value in Hi-C data if not specified.\n",
        "        cmap (str or plt.cm): which colormap to use. Default: 'Reds'\n",
        "        colorbar (bool): whether to add colorbar for the heatmap. Default: True\n",
        "        colorbar_orientation (str): \"horizontal\" or \"vertical\". Default: \"vertical\"\n",
        "        epi_labels (list): the names of epigenetic marks. If None, there will be no labels at y axis.\n",
        "        x_ticks (list): a list of strings. Will be added at the bottom. THE FIRST TICK WILL BE AT THE START OF THE SIGNAL, THE LAST TICK WILL BE AT THE END.\n",
        "        fontsize (int): font size. Default: 24\n",
        "        epi_colors (list): colors of epigenetic signals\n",
        "        epi_yaxis (bool): whether add y-axis to epigenetic signals. Default: True\n",
        "        heatmap_ratio (float): the ratio of (heatmap height) and (figure width). Default: 0.6\n",
        "        epi_ratio (float): the ratio of (1D epi signal height) and (figure width). Default: 0.1\n",
        "        interval_after_heatmap (float): the ratio of (interval between heatmap and 1D signals) and (figure width). Default: 0.05\n",
        "        interval_between_epi (float): the ratio of (interval between 1D signals) and (figure width). Default: 0.01\n",
        "\n",
        "    No return. Save a figure only.\n",
        "    \"\"\"\n",
        "\n",
        "    # Make sure the lengths match\n",
        "    # len_epis = [len(epi) for epi in epis]\n",
        "    # if max(len_epis) != min(len_epis) or max(len_epis) != len(HiC):\n",
        "    #     raise ValueError('Size not matched!')\n",
        "    N = len(HiC)\n",
        "\n",
        "    # Define the space for each row (heatmap - interval - signal - interval - signal ...)\n",
        "    rs = [heatmap_ratio, interval_after_heatmap] + [epi_ratio, interval_between_epi] * len(epis)\n",
        "    rs = np.array(rs[:-1])\n",
        "\n",
        "    # Calculate figure height\n",
        "    fig_height = fig_width * np.sum(rs)\n",
        "    rs = rs / np.sum(rs)  # normalize to 1 (ratios)\n",
        "    fig = plt.figure(figsize=(fig_width, fig_height))\n",
        "\n",
        "    # Split the figure into rows with different heights\n",
        "    gs = GridSpec(len(rs), 1, height_ratios=rs)\n",
        "\n",
        "    # Ready for plotting heatmap\n",
        "    ax0 = plt.subplot(gs[0, :])\n",
        "    # Define the rotated axes and coordinates\n",
        "    coordinate = np.array([[[(x + y) / 2, y - x] for y in range(N + 1)] for x in range(N + 1)])\n",
        "    X, Y = coordinate[:, :, 0], coordinate[:, :, 1]\n",
        "    # Plot the heatmap\n",
        "    vmax = vmax if vmax is not None else np.max(HiC)\n",
        "    im = ax0.pcolormesh(X, Y, HiC, vmin=vmin, vmax=vmax, cmap=cmap)\n",
        "    ax0.axis('off')\n",
        "    ax0.set_ylim([0, N])\n",
        "    ax0.set_xlim([0, N])\n",
        "    if colorbar:\n",
        "        if colorbar_orientation == 'horizontal':\n",
        "            _left, _width, _bottom, _height = 0.12, 0.25, 1 - rs[0] * 0.25, rs[0] * 0.03\n",
        "        elif colorbar_orientation == 'vertical':\n",
        "            _left, _width, _bottom, _height = 0.9, 0.02, 1 - rs[0] * 0.7, rs[0] * 0.5\n",
        "        else:\n",
        "            raise ValueError('Wrong orientation!')\n",
        "        cbar = plt.colorbar(im, cax=fig.add_axes([_left, _bottom, _width, _height]),\n",
        "                            orientation=colorbar_orientation)\n",
        "        cbar.ax.tick_params(labelsize=fontsize)\n",
        "        cbar.outline.set_visible(False)\n",
        "\n",
        "    # print(rs/np.sum(rs))\n",
        "    # Ready for plotting 1D signals\n",
        "    if epi_labels:\n",
        "        assert len(epis) == len(epi_labels)\n",
        "    if epi_colors:\n",
        "        assert len(epis) == len(epi_colors)\n",
        "\n",
        "    for i, epi in enumerate(epis):\n",
        "        # print(epi.shape)\n",
        "        ax1 = plt.subplot(gs[2 + 2 * i, :])\n",
        "\n",
        "        if epi_colors:\n",
        "            ax1.fill_between(np.arange(N), 0, epi, color=epi_colors[i])\n",
        "        else:\n",
        "            ax1.fill_between(np.arange(N), 0, epi)\n",
        "        ax1.spines['left'].set_visible(False)\n",
        "        ax1.spines['right'].set_visible(False)\n",
        "        ax1.spines['top'].set_visible(False)\n",
        "        ax1.spines['bottom'].set_visible(False)\n",
        "\n",
        "        if not epi_yaxis:\n",
        "            ax1.set_yticks([])\n",
        "            ax1.set_yticklabels([])\n",
        "        else:\n",
        "            ax1.spines['right'].set_visible(True)\n",
        "            ax1.tick_params(labelsize=fontsize)\n",
        "            ax1.yaxis.tick_right()\n",
        "\n",
        "        if i != len(epis) - 1:\n",
        "            ax1.set_xticks([])\n",
        "            ax1.set_xticklabels([])\n",
        "        # ax1.axis('off')\n",
        "        # ax1.xaxis.set_visible(True)\n",
        "        # plt.setp(ax1.spines.values(), visible=False)\n",
        "        # ax1.yaxis.set_visible(True)\n",
        "\n",
        "        ax1.set_xlim([-0.5, N - 0.5])\n",
        "        if epi_labels:\n",
        "            ax1.set_ylabel(epi_labels[i], fontsize=fontsize, rotation=0)\n",
        "    ax1.spines['bottom'].set_visible(True)\n",
        "    if x_ticks:\n",
        "        tick_pos = np.linspace(0, N - 1, len(x_ticks))  # 这个坐标其实是不对的 差1个bin 但是为了ticks好看只有先这样了\n",
        "        ax1.set_xticks(tick_pos)\n",
        "        ax1.set_xticklabels(x_ticks, fontsize=fontsize)\n",
        "    else:\n",
        "        ax1.set_xticks([])\n",
        "        ax1.set_xticklabels([])\n",
        "\n",
        "    plt.savefig(output)\n",
        "    plt.close()"
      ],
      "metadata": {
        "id": "5CS58aKwVz7o"
      },
      "execution_count": null,
      "outputs": []
    },
    {
      "cell_type": "markdown",
      "source": [
        "## Predict HiC"
      ],
      "metadata": {
        "id": "L7ZrLaAz-kP0"
      }
    },
    {
      "cell_type": "code",
      "source": [
        "chr_num = 17\n",
        "print(f\"Testing on Chromosome {chr_num}\")\n",
        "folder = f\"{base_path}/{cell_line}/{hic_res}/chr{chr_num}\"\n",
        "hic_sparse_mat_file = f\"{folder}/hic_sparse_redone_h3k27ac_addition.npz\"\n",
        "\n",
        "np_hmods_norm_all_file = f\"{folder}/np_hmods_norm_chip_{chip_res}bp_redone_h3k27ac_addition.npy\"\n",
        "\n",
        "mat = load_npz(hic_sparse_mat_file)\n",
        "\n",
        "allNodes_hms = np.load(np_hmods_norm_all_file)\n",
        "hms = allNodes_hms[:, 1:] #only includes features, not node ids\n",
        "hms = tf.convert_to_tensor(hms.reshape(-1, num_feat), dtype=tf.float32)\n",
        "\n",
        "pred_hic = np.zeros(shape = mat.shape)\n",
        "\n",
        "slice_len = 256\n",
        "num_bins = len(hms)\n",
        "diag_ind = 0\n",
        "for i in range(0, (num_bins // slice_len) + 1):\n",
        "  if (i+1) * slice_len > num_bins: i = num_bins - slice_len\n",
        "  hms_sub = np.expand_dims(hms[i*slice_len: (i+1) * slice_len].numpy(), axis=0)\n",
        "  for j in range((num_bins // slice_len) + 1):\n",
        "    if (j+1) * slice_len > num_bins: j = num_bins - slice_len\n",
        "    hic_sub = np.expand_dims(mat[i*slice_len:(i+1)*slice_len, j*slice_len:(j+1)*slice_len].toarray(), axis=0)\n",
        "    hi_hic = autoencoder((hic_sub, hms_sub), training=False)\n",
        "    pred_hic[i*slice_len:(i+1)*slice_len, j*slice_len:(j+1)*slice_len] = np.squeeze(hi_hic.numpy())\n",
        "\n",
        "\n",
        "visualize_HiC_epigenetics(pred_hic, tf.transpose(hms), f\"./{cell_line}/pred_chr{chr_num}_hic_vis.png\",\n",
        "                          colorbar=True, interval_after_heatmap=0.,\n",
        "                          interval_between_epi=0., epi_labels=[\"H3K27me3\", \"H3K36me3\", \"H3K4me1\", \"H3K4me3\", \"H3K9me3\"],\n",
        "                          epi_yaxis=True, fontsize=20, epi_ratio=0.045,\n",
        "                          x_ticks=['', '', '', '', '', ''], vmax=np.quantile(pred_hic, 0.98))"
      ],
      "metadata": {
        "id": "MkF9PzBa2ofN"
      },
      "execution_count": null,
      "outputs": []
    },
    {
      "cell_type": "code",
      "source": [
        "chr_num = 17\n",
        "print(f\"Testing on Chromosome {chr_num}\")\n",
        "folder = f\"{base_path}/{cell_line}/{hic_res}/chr{chr_num}\"\n",
        "hic_sparse_mat_file = f\"{folder}/hic_sparse_redone_h3k27ac_addition.npz\"\n",
        "\n",
        "np_hmods_norm_all_file = f\"{folder}/np_hmods_norm_chip_{chip_res}bp_redone_h3k27ac_addition.npy\"\n",
        "\n",
        "mat = load_npz(hic_sparse_mat_file)\n",
        "\n",
        "hms = np.load(np_hmods_norm_all_file)\n",
        "hms = hms[:, 1:] #only includes features, not node ids\n",
        "hms = tf.convert_to_tensor(hms.reshape(-1, num_feat), dtype=tf.float32)\n",
        "\n",
        "visualize_HiC_epigenetics(mat.toarray(), tf.transpose(hms), f\"./{cell_line}/ground_truth_chr{chr_num}_hic_vis.png\",\n",
        "                          colorbar=True, interval_after_heatmap=0.,\n",
        "                          interval_between_epi=0., epi_labels=[\"H3K27me3\", \"H3K36me3\", \"H3K4me1\", \"H3K4me3\", \"H3K9me3\"],\n",
        "                          epi_yaxis=True, fontsize=20, epi_ratio=0.045,\n",
        "                          x_ticks=['', '', '', '', '', ''], vmax=np.quantile(mat.toarray(), 0.98))"
      ],
      "metadata": {
        "id": "_rNPKfxdlAVc"
      },
      "execution_count": null,
      "outputs": []
    }
  ]
}